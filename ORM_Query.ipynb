{
 "cells": [
  {
   "cell_type": "code",
   "execution_count": 1,
   "id": "663b31b0",
   "metadata": {},
   "outputs": [],
   "source": [
    "import os\n",
    "import django"
   ]
  },
  {
   "cell_type": "code",
   "execution_count": 2,
   "id": "fdb21b76",
   "metadata": {},
   "outputs": [],
   "source": [
    "os.environ.setdefault('DJANGO_SETTINGS_MODULE', 'rest.settings')\n",
    "os.environ[\"DJANGO_ALLOW_ASYNC_UNSAFE\"] = \"true\"\n",
    "django.setup()"
   ]
  },
  {
   "cell_type": "code",
   "execution_count": 3,
   "id": "626caf97",
   "metadata": {},
   "outputs": [],
   "source": [
    "prod = Product.objects.all()"
   ]
  },
  {
   "cell_type": "code",
   "execution_count": 4,
   "id": "4d1d8877",
   "metadata": {},
   "outputs": [
    {
     "data": {
      "text/plain": [
       "<QuerySet [<Product: 6 Kanken 100 2950.00 Sky blue 0>, <Product: 5 Nike Air Force 1 10 2800.00 grey 18>, <Product: 4 T-shirt 99 790.00 beige 0>, <Product: 3 Classic Sunglasses 1000 4990.00 white 0>, <Product: 2 Basic Jeans 20 1390.00 blue 18>, <Product: 1 Heart Sweater 10 990.00 pink 8>]>"
      ]
     },
     "execution_count": 4,
     "metadata": {},
     "output_type": "execute_result"
    }
   ],
   "source": [
    "prod"
   ]
  },
  {
   "cell_type": "code",
   "execution_count": 6,
   "id": "c16e9a13",
   "metadata": {},
   "outputs": [],
   "source": [
    "import pandas as pd"
   ]
  },
  {
   "cell_type": "code",
   "execution_count": 7,
   "id": "75c7c72e",
   "metadata": {},
   "outputs": [
    {
     "data": {
      "text/html": [
       "<div>\n",
       "<style scoped>\n",
       "    .dataframe tbody tr th:only-of-type {\n",
       "        vertical-align: middle;\n",
       "    }\n",
       "\n",
       "    .dataframe tbody tr th {\n",
       "        vertical-align: top;\n",
       "    }\n",
       "\n",
       "    .dataframe thead th {\n",
       "        text-align: right;\n",
       "    }\n",
       "</style>\n",
       "<table border=\"1\" class=\"dataframe\">\n",
       "  <thead>\n",
       "    <tr style=\"text-align: right;\">\n",
       "      <th></th>\n",
       "      <th>id</th>\n",
       "      <th>seller</th>\n",
       "      <th>title</th>\n",
       "      <th>picture</th>\n",
       "      <th>slug</th>\n",
       "      <th>category_id</th>\n",
       "      <th>price</th>\n",
       "      <th>color</th>\n",
       "      <th>size</th>\n",
       "      <th>quantity</th>\n",
       "      <th>description</th>\n",
       "      <th>created</th>\n",
       "    </tr>\n",
       "  </thead>\n",
       "  <tbody>\n",
       "    <tr>\n",
       "      <th>0</th>\n",
       "      <td>6</td>\n",
       "      <td>moow</td>\n",
       "      <td>Kanken</td>\n",
       "      <td>myimages/FF8C68C6-9BC8-4B54-8B80-032E65764FCE....</td>\n",
       "      <td>bag</td>\n",
       "      <td>8</td>\n",
       "      <td>2950.00</td>\n",
       "      <td>Sky blue</td>\n",
       "      <td>0</td>\n",
       "      <td>100</td>\n",
       "      <td>Kanken</td>\n",
       "      <td>2022-05-03 18:39:30.036255+00:00</td>\n",
       "    </tr>\n",
       "    <tr>\n",
       "      <th>1</th>\n",
       "      <td>5</td>\n",
       "      <td>benz</td>\n",
       "      <td>Nike Air Force 1</td>\n",
       "      <td>myimages/6BE934CC-5C7C-423F-B546-931471117E46....</td>\n",
       "      <td>shoes</td>\n",
       "      <td>10</td>\n",
       "      <td>2800.00</td>\n",
       "      <td>grey</td>\n",
       "      <td>18</td>\n",
       "      <td>10</td>\n",
       "      <td>Nike Air Force 1 สีฟ้าเทาทูโทน</td>\n",
       "      <td>2022-05-03 18:38:40.273429+00:00</td>\n",
       "    </tr>\n",
       "    <tr>\n",
       "      <th>2</th>\n",
       "      <td>4</td>\n",
       "      <td>pla</td>\n",
       "      <td>T-shirt</td>\n",
       "      <td>myimages/5BF3CD04-C1F8-4F1C-930E-2014485B86E0....</td>\n",
       "      <td>shirt</td>\n",
       "      <td>1</td>\n",
       "      <td>790.00</td>\n",
       "      <td>beige</td>\n",
       "      <td>0</td>\n",
       "      <td>99</td>\n",
       "      <td>เสื้อยืด Over size</td>\n",
       "      <td>2022-05-03 18:37:36.890151+00:00</td>\n",
       "    </tr>\n",
       "    <tr>\n",
       "      <th>3</th>\n",
       "      <td>3</td>\n",
       "      <td>pat</td>\n",
       "      <td>Classic Sunglasses</td>\n",
       "      <td>myimages/02E6077B-7E9F-4067-B127-2F3B52CFEB5E....</td>\n",
       "      <td>glasses</td>\n",
       "      <td>9</td>\n",
       "      <td>4990.00</td>\n",
       "      <td>white</td>\n",
       "      <td>0</td>\n",
       "      <td>1000</td>\n",
       "      <td>แว่นกันแดดรุ่นคลาสสิค</td>\n",
       "      <td>2022-05-03 18:36:19.781188+00:00</td>\n",
       "    </tr>\n",
       "    <tr>\n",
       "      <th>4</th>\n",
       "      <td>2</td>\n",
       "      <td>boat</td>\n",
       "      <td>Basic Jeans</td>\n",
       "      <td>myimages/CEF0BED8-71CA-4436-AAFF-80EC1AE088F3....</td>\n",
       "      <td>jeans</td>\n",
       "      <td>2</td>\n",
       "      <td>1390.00</td>\n",
       "      <td>blue</td>\n",
       "      <td>18</td>\n",
       "      <td>20</td>\n",
       "      <td>กางเกงยีนส์ลายหัวใจ</td>\n",
       "      <td>2022-05-03 18:35:21.213126+00:00</td>\n",
       "    </tr>\n",
       "    <tr>\n",
       "      <th>5</th>\n",
       "      <td>1</td>\n",
       "      <td>foad</td>\n",
       "      <td>Heart Sweater</td>\n",
       "      <td>myimages/DE91C04F-E5B5-4459-9412-56436E8C5EB9....</td>\n",
       "      <td>sweater</td>\n",
       "      <td>2</td>\n",
       "      <td>990.00</td>\n",
       "      <td>pink</td>\n",
       "      <td>8</td>\n",
       "      <td>10</td>\n",
       "      <td>เสื้อกันหนาวลายหัวใจ</td>\n",
       "      <td>2022-05-03 18:33:56.416009+00:00</td>\n",
       "    </tr>\n",
       "  </tbody>\n",
       "</table>\n",
       "</div>"
      ],
      "text/plain": [
       "   id seller               title  \\\n",
       "0   6   moow              Kanken   \n",
       "1   5   benz    Nike Air Force 1   \n",
       "2   4    pla             T-shirt   \n",
       "3   3    pat  Classic Sunglasses   \n",
       "4   2   boat         Basic Jeans   \n",
       "5   1   foad       Heart Sweater   \n",
       "\n",
       "                                             picture     slug  category_id  \\\n",
       "0  myimages/FF8C68C6-9BC8-4B54-8B80-032E65764FCE....      bag            8   \n",
       "1  myimages/6BE934CC-5C7C-423F-B546-931471117E46....    shoes           10   \n",
       "2  myimages/5BF3CD04-C1F8-4F1C-930E-2014485B86E0....    shirt            1   \n",
       "3  myimages/02E6077B-7E9F-4067-B127-2F3B52CFEB5E....  glasses            9   \n",
       "4  myimages/CEF0BED8-71CA-4436-AAFF-80EC1AE088F3....    jeans            2   \n",
       "5  myimages/DE91C04F-E5B5-4459-9412-56436E8C5EB9....  sweater            2   \n",
       "\n",
       "     price     color  size  quantity                     description  \\\n",
       "0  2950.00  Sky blue     0       100                          Kanken   \n",
       "1  2800.00      grey    18        10  Nike Air Force 1 สีฟ้าเทาทูโทน   \n",
       "2   790.00     beige     0        99              เสื้อยืด Over size   \n",
       "3  4990.00     white     0      1000           แว่นกันแดดรุ่นคลาสสิค   \n",
       "4  1390.00      blue    18        20             กางเกงยีนส์ลายหัวใจ   \n",
       "5   990.00      pink     8        10            เสื้อกันหนาวลายหัวใจ   \n",
       "\n",
       "                           created  \n",
       "0 2022-05-03 18:39:30.036255+00:00  \n",
       "1 2022-05-03 18:38:40.273429+00:00  \n",
       "2 2022-05-03 18:37:36.890151+00:00  \n",
       "3 2022-05-03 18:36:19.781188+00:00  \n",
       "4 2022-05-03 18:35:21.213126+00:00  \n",
       "5 2022-05-03 18:33:56.416009+00:00  "
      ]
     },
     "execution_count": 7,
     "metadata": {},
     "output_type": "execute_result"
    }
   ],
   "source": [
    "pd.DataFrame(prod.values())"
   ]
  },
  {
   "cell_type": "markdown",
   "id": "448f1d95",
   "metadata": {},
   "source": [
    "จำนวนสินค้าใน stock ของเว็บไซต์"
   ]
  },
  {
   "cell_type": "code",
   "execution_count": 25,
   "id": "b2d520b3",
   "metadata": {},
   "outputs": [
    {
     "data": {
      "text/plain": [
       "{'quantity__sum': 1239}"
      ]
     },
     "execution_count": 25,
     "metadata": {},
     "output_type": "execute_result"
    }
   ],
   "source": [
    "prod.aggregate(Sum('quantity'))"
   ]
  },
  {
   "cell_type": "markdown",
   "id": "076c56d3",
   "metadata": {},
   "source": [
    "จำนวนรายการสินค้าในเว็บ"
   ]
  },
  {
   "cell_type": "code",
   "execution_count": 10,
   "id": "23f226f5",
   "metadata": {},
   "outputs": [
    {
     "data": {
      "text/plain": [
       "6"
      ]
     },
     "execution_count": 10,
     "metadata": {},
     "output_type": "execute_result"
    }
   ],
   "source": [
    "prod.count()"
   ]
  },
  {
   "cell_type": "markdown",
   "id": "650cd15f",
   "metadata": {},
   "source": [
    "แสดงรายการสินค้าที่มีราคาน้อยกว่า 1000"
   ]
  },
  {
   "cell_type": "code",
   "execution_count": 23,
   "id": "d28353ff",
   "metadata": {},
   "outputs": [
    {
     "data": {
      "text/html": [
       "<div>\n",
       "<style scoped>\n",
       "    .dataframe tbody tr th:only-of-type {\n",
       "        vertical-align: middle;\n",
       "    }\n",
       "\n",
       "    .dataframe tbody tr th {\n",
       "        vertical-align: top;\n",
       "    }\n",
       "\n",
       "    .dataframe thead th {\n",
       "        text-align: right;\n",
       "    }\n",
       "</style>\n",
       "<table border=\"1\" class=\"dataframe\">\n",
       "  <thead>\n",
       "    <tr style=\"text-align: right;\">\n",
       "      <th></th>\n",
       "      <th>0</th>\n",
       "    </tr>\n",
       "  </thead>\n",
       "  <tbody>\n",
       "    <tr>\n",
       "      <th>0</th>\n",
       "      <td>4 T-shirt 99 790.00 beige 0</td>\n",
       "    </tr>\n",
       "    <tr>\n",
       "      <th>1</th>\n",
       "      <td>1 Heart Sweater 10 990.00 pink 8</td>\n",
       "    </tr>\n",
       "  </tbody>\n",
       "</table>\n",
       "</div>"
      ],
      "text/plain": [
       "                                  0\n",
       "0       4 T-shirt 99 790.00 beige 0\n",
       "1  1 Heart Sweater 10 990.00 pink 8"
      ]
     },
     "execution_count": 23,
     "metadata": {},
     "output_type": "execute_result"
    }
   ],
   "source": [
    "pd.DataFrame(prod.filter(price__lte = 1000))"
   ]
  },
  {
   "cell_type": "markdown",
   "id": "c0768407",
   "metadata": {},
   "source": [
    "สินค้าที่มีโทนสีฟ้า"
   ]
  },
  {
   "cell_type": "code",
   "execution_count": 29,
   "id": "8f11a1b1",
   "metadata": {},
   "outputs": [
    {
     "data": {
      "text/html": [
       "<div>\n",
       "<style scoped>\n",
       "    .dataframe tbody tr th:only-of-type {\n",
       "        vertical-align: middle;\n",
       "    }\n",
       "\n",
       "    .dataframe tbody tr th {\n",
       "        vertical-align: top;\n",
       "    }\n",
       "\n",
       "    .dataframe thead th {\n",
       "        text-align: right;\n",
       "    }\n",
       "</style>\n",
       "<table border=\"1\" class=\"dataframe\">\n",
       "  <thead>\n",
       "    <tr style=\"text-align: right;\">\n",
       "      <th></th>\n",
       "      <th>0</th>\n",
       "    </tr>\n",
       "  </thead>\n",
       "  <tbody>\n",
       "    <tr>\n",
       "      <th>0</th>\n",
       "      <td>6 Kanken 100 2950.00 Sky blue 0</td>\n",
       "    </tr>\n",
       "    <tr>\n",
       "      <th>1</th>\n",
       "      <td>2 Basic Jeans 20 1390.00 blue 18</td>\n",
       "    </tr>\n",
       "  </tbody>\n",
       "</table>\n",
       "</div>"
      ],
      "text/plain": [
       "                                  0\n",
       "0   6 Kanken 100 2950.00 Sky blue 0\n",
       "1  2 Basic Jeans 20 1390.00 blue 18"
      ]
     },
     "execution_count": 29,
     "metadata": {},
     "output_type": "execute_result"
    }
   ],
   "source": [
    "pd.DataFrame(prod.filter(color__contains = 'blue'))"
   ]
  },
  {
   "cell_type": "code",
   "execution_count": null,
   "id": "ef97f27c",
   "metadata": {},
   "outputs": [],
   "source": []
  }
 ],
 "metadata": {
  "kernelspec": {
   "display_name": "Django Shell-Plus",
   "language": "python",
   "name": "django_extensions"
  },
  "language_info": {
   "codemirror_mode": {
    "name": "ipython",
    "version": 3
   },
   "file_extension": ".py",
   "mimetype": "text/x-python",
   "name": "python",
   "nbconvert_exporter": "python",
   "pygments_lexer": "ipython3",
   "version": "3.8.8"
  }
 },
 "nbformat": 4,
 "nbformat_minor": 5
}
